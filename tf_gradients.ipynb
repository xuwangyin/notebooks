{
 "cells": [
  {
   "cell_type": "code",
   "execution_count": 3,
   "metadata": {},
   "outputs": [],
   "source": [
    "import tensorflow as tf\n",
    "import numpy as np"
   ]
  },
  {
   "cell_type": "code",
   "execution_count": 31,
   "metadata": {},
   "outputs": [],
   "source": [
    "x_dims = 3\n",
    "batch_size = 4\n",
    "x_val = np.random.randint(0, 10, (batch_size, x_dims))\n",
    "x = tf.placeholder(tf.float32, (None, x_dims))\n",
    "w = tf.Variable(tf.constant([[1], [2], [3]], dtype=tf.float32))"
   ]
  },
  {
   "cell_type": "code",
   "execution_count": 32,
   "metadata": {},
   "outputs": [
    {
     "data": {
      "text/plain": [
       "TensorShape([Dimension(None), Dimension(1)])"
      ]
     },
     "execution_count": 32,
     "metadata": {},
     "output_type": "execute_result"
    }
   ],
   "source": [
    "tf.matmul(x, w).get_shape()"
   ]
  },
  {
   "cell_type": "code",
   "execution_count": 38,
   "metadata": {},
   "outputs": [
    {
     "name": "stdout",
     "output_type": "stream",
     "text": [
      "x = \n",
      " [[8 1 0]\n",
      " [2 8 9]\n",
      " [8 8 8]\n",
      " [7 1 7]]\n",
      "y = \n",
      " [10. 45. 48. 30.]\n",
      "dy/dx = \n",
      " [[1. 2. 3.]\n",
      " [1. 2. 3.]\n",
      " [1. 2. 3.]\n",
      " [1. 2. 3.]]\n",
      "dy/dw = \n",
      " [[25.]\n",
      " [18.]\n",
      " [24.]]\n"
     ]
    }
   ],
   "source": [
    "y = tf.squeeze(tf.matmul(x, w))\n",
    "\n",
    "grad_x, grad_w = tf.gradients(y, [x, w])\n",
    "\n",
    "with tf.Session() as sess:\n",
    "    sess.run(w.initializer)\n",
    "    y_val, grad_x, grad_w = sess.run([y, grad_x, grad_w], {x:x_val})\n",
    "\n",
    "    print('x = \\n', x_val)\n",
    "    print('y = \\n', y_val)\n",
    "    print('dy/dx = \\n', grad_x)\n",
    "    print('dy/dw = \\n', grad_w)"
   ]
  },
  {
   "cell_type": "code",
   "execution_count": 39,
   "metadata": {},
   "outputs": [
    {
     "name": "stdout",
     "output_type": "stream",
     "text": [
      "x = \n",
      " [[8 1 0]\n",
      " [2 8 9]\n",
      " [8 8 8]\n",
      " [7 1 7]]\n",
      "y = \n",
      " 133.0\n",
      "dy/dx = \n",
      " [[1. 2. 3.]\n",
      " [1. 2. 3.]\n",
      " [1. 2. 3.]\n",
      " [1. 2. 3.]]\n",
      "dy/dw = \n",
      " [[25.]\n",
      " [18.]\n",
      " [24.]]\n"
     ]
    }
   ],
   "source": [
    "y = tf.reduce_sum(tf.squeeze(tf.matmul(x, w)))\n",
    "\n",
    "grad_x, grad_w = tf.gradients(y, [x, w])\n",
    "\n",
    "with tf.Session() as sess:\n",
    "    sess.run(w.initializer)\n",
    "    y_val, grad_x, grad_w = sess.run([y, grad_x, grad_w], {x:x_val})\n",
    "\n",
    "    print('x = \\n', x_val)\n",
    "    print('y = \\n', y_val)\n",
    "    print('dy/dx = \\n', grad_x)\n",
    "    print('dy/dw = \\n', grad_w)"
   ]
  },
  {
   "cell_type": "code",
   "execution_count": null,
   "metadata": {},
   "outputs": [],
   "source": []
  },
  {
   "cell_type": "code",
   "execution_count": null,
   "metadata": {},
   "outputs": [],
   "source": []
  }
 ],
 "metadata": {
  "kernelspec": {
   "display_name": "tensorflow",
   "language": "python",
   "name": "tensorflow"
  },
  "language_info": {
   "codemirror_mode": {
    "name": "ipython",
    "version": 3
   },
   "file_extension": ".py",
   "mimetype": "text/x-python",
   "name": "python",
   "nbconvert_exporter": "python",
   "pygments_lexer": "ipython3",
   "version": "3.6.5"
  }
 },
 "nbformat": 4,
 "nbformat_minor": 2
}
